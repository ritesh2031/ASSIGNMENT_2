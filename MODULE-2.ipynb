{
 "cells": [
  {
   "cell_type": "code",
   "execution_count": 1,
   "id": "f070cb14",
   "metadata": {},
   "outputs": [
    {
     "name": "stdout",
     "output_type": "stream",
     "text": [
      "enter number:31\n",
      "positive\n"
     ]
    }
   ],
   "source": [
    "#Q.1 Write a Python program to check if a number is positive, negative or zero.\n",
    "num = int(input('enter number:'))\n",
    "if num==0:\n",
    "    print('zero')\n",
    "elif num>0:\n",
    "    print('positive')\n",
    "else:\n",
    "    print('negative')"
   ]
  },
  {
   "cell_type": "code",
   "execution_count": 2,
   "id": "553517ba",
   "metadata": {},
   "outputs": [
    {
     "name": "stdout",
     "output_type": "stream",
     "text": [
      "enter number:5\n",
      "120\n"
     ]
    }
   ],
   "source": [
    "#Q.2 Write a Python program to get the Factorial number of given number.\n",
    "num = int(input('enter number:'))\n",
    "fact=1\n",
    "while num>1:\n",
    "    fact=fact*num\n",
    "    num-=1\n",
    "print(fact)"
   ]
  },
  {
   "cell_type": "code",
   "execution_count": 3,
   "id": "f6ea433b",
   "metadata": {},
   "outputs": [
    {
     "name": "stdout",
     "output_type": "stream",
     "text": [
      "enter number:5\n",
      "0\n",
      "1\n",
      "1\n",
      "2\n",
      "3\n",
      "5\n"
     ]
    }
   ],
   "source": [
    "#Q.3 Write a Python program to get the Fibonacci series of given range.\n",
    "num = int(input('enter number:'))\n",
    "r = 0\n",
    "t = 1\n",
    "while num>=r:\n",
    "    print(r)\n",
    "    r,t=t,(r+t)"
   ]
  },
  {
   "cell_type": "code",
   "execution_count": null,
   "id": "a01df079",
   "metadata": {},
   "outputs": [],
   "source": [
    "#Q.4 How memory is managed in Python?\n"
   ]
  },
  {
   "cell_type": "code",
   "execution_count": null,
   "id": "7bd5fab9",
   "metadata": {},
   "outputs": [],
   "source": [
    "#Q.5 What is the purpose continue statement in python?\n",
    "\n",
    "The continue keyword is used to end the current iteration in a loops, and continues to the next iteration."
   ]
  },
  {
   "cell_type": "code",
   "execution_count": 4,
   "id": "572611c1",
   "metadata": {},
   "outputs": [
    {
     "name": "stdout",
     "output_type": "stream",
     "text": [
      "old r:7\n",
      "old t:9\n",
      "variable r: 9\n",
      "variable t: 7\n",
      "old x:4\n",
      "old y:6\n",
      "variable x: 6\n",
      "variable y: 4\n"
     ]
    }
   ],
   "source": [
    "#Q.6 Write python program that swap two number with temp variable and without temp variable.\n",
    "# temp variable\n",
    "r = int(input('old r:'))\n",
    "t = int(input('old t:'))\n",
    "temp=r\n",
    "r,t=t,temp\n",
    "print('variable r:',r)\n",
    "print('variable t:',t)\n",
    "\n",
    "\n",
    "# without temp variable\n",
    "x = int(input('old x:'))\n",
    "y = int(input('old y:'))\n",
    "x,y=y,x\n",
    "print('variable x:',x)\n",
    "print('variable y:',y)"
   ]
  },
  {
   "cell_type": "code",
   "execution_count": 5,
   "id": "4dd959d2",
   "metadata": {},
   "outputs": [
    {
     "name": "stdout",
     "output_type": "stream",
     "text": [
      "enter number:11\n",
      "11 is odd number\n"
     ]
    }
   ],
   "source": [
    "#Q.7 Write a Python program to find whether a given number is even or odd, print out an appropriate message to the user.\n",
    "num = int(input('enter number:'))\n",
    "if num%2==0:\n",
    "    print(num,'is even number')\n",
    "else:\n",
    "    print(num,'is odd number')"
   ]
  },
  {
   "cell_type": "code",
   "execution_count": 6,
   "id": "1b0019e2",
   "metadata": {},
   "outputs": [
    {
     "name": "stdout",
     "output_type": "stream",
     "text": [
      "alphabet:e\n",
      "e is a vowel\n"
     ]
    }
   ],
   "source": [
    "#Q.8 Write a Python program to test whether a passed letter is a vowel or not.\n",
    "p = input('alphabet:')\n",
    "alpha='aeiouAEIOU'\n",
    "if p in alpha :\n",
    "    print(p,'is a vowel')\n",
    "else:\n",
    "    print(p,'is a consonant')"
   ]
  },
  {
   "cell_type": "code",
   "execution_count": 7,
   "id": "dc09a88b",
   "metadata": {},
   "outputs": [
    {
     "name": "stdout",
     "output_type": "stream",
     "text": [
      "O=5\n",
      "M=6\n",
      "G=5\n",
      "ans is 0\n"
     ]
    }
   ],
   "source": [
    "#Q.9 Write a Python program to sum of three given integers. However, if two values are equal sum will be zero.\n",
    "O,M,G= int(input('O=')),int(input('M=')),int(input('G='))\n",
    "if O==M or M==G or O==G:\n",
    "    sum=0\n",
    "else:\n",
    "    sum=O+M+G\n",
    "print('ans is',sum)"
   ]
  },
  {
   "cell_type": "code",
   "execution_count": 8,
   "id": "c8888d19",
   "metadata": {},
   "outputs": [
    {
     "name": "stdout",
     "output_type": "stream",
     "text": [
      "hy=5\n",
      "by=4\n",
      "False\n"
     ]
    }
   ],
   "source": [
    "#Q.10 Write a Python program that will return true if the two given integer values are equal or their sum or difference is 5.\n",
    "hy = int(input('hy='))\n",
    "by = int(input('by='))\n",
    "if hy==by or hy+by==5 or hy-by==5:\n",
    "    print(True)\n",
    "else:\n",
    "    print(False)"
   ]
  },
  {
   "cell_type": "code",
   "execution_count": 9,
   "id": "3e179511",
   "metadata": {},
   "outputs": [
    {
     "name": "stdout",
     "output_type": "stream",
     "text": [
      "enter number:5\n",
      "15\n"
     ]
    }
   ],
   "source": [
    "#Q.11 Write a python program to sum of the first n positive integers.\n",
    "n = int(input('enter number:'))\n",
    "sum = (n*(n+1)//2)\n",
    "print(sum)"
   ]
  },
  {
   "cell_type": "code",
   "execution_count": 10,
   "id": "f1584e63",
   "metadata": {},
   "outputs": [
    {
     "name": "stdout",
     "output_type": "stream",
     "text": [
      "word:enamina\n"
     ]
    },
    {
     "data": {
      "text/plain": [
       "7"
      ]
     },
     "execution_count": 10,
     "metadata": {},
     "output_type": "execute_result"
    }
   ],
   "source": [
    "#Q.12 Write a Python program to calculate the length of a string.\n",
    "str1 = input('word:')\n",
    "len(str1)"
   ]
  },
  {
   "cell_type": "code",
   "execution_count": 11,
   "id": "3e9bee9a",
   "metadata": {},
   "outputs": [
    {
     "name": "stdout",
     "output_type": "stream",
     "text": [
      "hello sir hello mem hello all\n",
      "{'h': 3, 'e': 4, 'l': 8, 'o': 3, ' ': 5, 's': 1, 'i': 1, 'r': 1, 'm': 2, 'a': 1}\n"
     ]
    }
   ],
   "source": [
    "#Q.13 Write a Python program to count the number of characters (character frequency) in a string\n",
    "str11 = input('')\n",
    "dict = {}\n",
    "for i in (str11):\n",
    "    if i in dict:\n",
    "        dict[i] += 1\n",
    "    else:\n",
    "        dict[i] = 1\n",
    "print(dict)   "
   ]
  },
  {
   "cell_type": "code",
   "execution_count": null,
   "id": "8dd999b7",
   "metadata": {},
   "outputs": [],
   "source": [
    "#Q.14 What are negative indexes and why are they used?\n",
    "\n",
    "Negative Indexing is used to in Python to begin slicing from the end of the string"
   ]
  },
  {
   "cell_type": "code",
   "execution_count": 12,
   "id": "2f6e14f1",
   "metadata": {},
   "outputs": [
    {
     "name": "stdout",
     "output_type": "stream",
     "text": [
      "count: 5\n"
     ]
    }
   ],
   "source": [
    "#Q.15 Write a Python program to count occurrences of a substring in a string.\n",
    "new_str1 = 'two crores twenty two lakh twenty two thousand two hundred twenty two rupees only' \n",
    "sub_str1 = 'two'\n",
    "print('count:',new_str1.count(sub_str1))"
   ]
  },
  {
   "cell_type": "code",
   "execution_count": 13,
   "id": "fe59e400",
   "metadata": {},
   "outputs": [
    {
     "name": "stdout",
     "output_type": "stream",
     "text": [
      "{'two': 5, 'crores': 1, 'twenty': 3, 'lakh': 1, 'thousand': 1, 'hundred': 1, 'rupees': 1, 'only': 1}\n"
     ]
    }
   ],
   "source": [
    "#Q.16 Write a Python program to count the occurrences of each word in a given sentence\n",
    "string1 = 'two crores twenty two lakh twenty two thousand two hundred twenty two rupees only'\n",
    "word = string1.split()\n",
    "dict = {}\n",
    "for i in (word):\n",
    "    if i in dict:\n",
    "        dict[i] += 1\n",
    "    else:\n",
    "        dict[i] = 1        \n",
    "print(dict)"
   ]
  },
  {
   "cell_type": "code",
   "execution_count": 14,
   "id": "bd74c477",
   "metadata": {},
   "outputs": [
    {
     "name": "stdout",
     "output_type": "stream",
     "text": [
      "rinil metik\n"
     ]
    }
   ],
   "source": [
    "#Q.17 Write a Python program to get a single string from two given strings, \n",
    "    # separated by a space and swap the first two characters of each string.\n",
    "a , b = 'menil','ritik'\n",
    "a1 = b[:2]+a[2:]\n",
    "b1 = a[:2]+b[2:]\n",
    "c = (a1+' '+b1)\n",
    "print(c)"
   ]
  },
  {
   "cell_type": "code",
   "execution_count": 15,
   "id": "4e0383bc",
   "metadata": {},
   "outputs": [
    {
     "name": "stdout",
     "output_type": "stream",
     "text": [
      "enter word:earning\n",
      "earningly\n"
     ]
    }
   ],
   "source": [
    "#Q.18 Write a Python program to add 'ing' at the end of a given string (length should be at least 3). \n",
    "    # If the given string already ends with 'ing' then add 'ly' instead if the string length of the given string is less than 3,\n",
    "    # leave it unchanged.\n",
    "str33 = input('enter word:')\n",
    "l1 = len(str33)\n",
    "if 2 < l1 :\n",
    "    if str33.endswith('ing'):\n",
    "        str33 += 'ly'\n",
    "    else:\n",
    "        str33 += 'ing'   \n",
    "print(str33)"
   ]
  },
  {
   "cell_type": "code",
   "execution_count": 16,
   "id": "e20248ac",
   "metadata": {},
   "outputs": [
    {
     "name": "stdout",
     "output_type": "stream",
     "text": [
      "old :the music is not that poor!\n",
      "the music is good!\n"
     ]
    }
   ],
   "source": [
    "#Q.19 Write a Python program to find the first appearance of the substring 'not' and 'poor' from a given string,\n",
    "    # if 'not' follows the 'poor', replace the whole 'not'...'poor' substring with 'good'. Return the resulting string.\n",
    "sent1 = input('old :')\n",
    "am = sent1.find('not')\n",
    "pm = sent1.find('poor')\n",
    "if am<pm and 0<am and 0<pm:\n",
    "    sent1 = sent1.replace(sent1[am:(pm+4)],\"good\")\n",
    "    print(sent1)\n",
    "else:\n",
    "    print(sent1)"
   ]
  },
  {
   "cell_type": "code",
   "execution_count": 17,
   "id": "4057f515",
   "metadata": {},
   "outputs": [
    {
     "name": "stdout",
     "output_type": "stream",
     "text": [
      "11\n"
     ]
    }
   ],
   "source": [
    "#Q.20 Write a Python function that takes a list of words and returns the length of the longest one.\n",
    "words1 = ['mayuresh','menil','prerna','snehal','ritik','devangsirji']\n",
    "count1 = 0\n",
    "for i in words1:\n",
    "    if len(i) > count1:\n",
    "        count1 = len(i)\n",
    "print(count1)"
   ]
  },
  {
   "cell_type": "code",
   "execution_count": 18,
   "id": "11845880",
   "metadata": {},
   "outputs": [
    {
     "name": "stdout",
     "output_type": "stream",
     "text": [
      "name:spiderman\n",
      "cant reverse\n"
     ]
    }
   ],
   "source": [
    "#Q.21 Write a Python function to reverses a string if its length is a multiple of 4.\n",
    "rts = input('name:')\n",
    "if len(rts)%4==0:\n",
    "    new=rts[::-1]\n",
    "    print(new)\n",
    "else:\n",
    "    print('cant reverse')"
   ]
  },
  {
   "cell_type": "code",
   "execution_count": 20,
   "id": "10ad9d8b",
   "metadata": {},
   "outputs": [
    {
     "name": "stdout",
     "output_type": "stream",
     "text": [
      "string:robot\n",
      "root\n"
     ]
    }
   ],
   "source": [
    "#Q.22 Write a Python program to get a string made of the first 2 and the last 2 chars from a given a string. \n",
    "    # If the string length is less than 2, return instead of the empty string.\n",
    "tyson=input('string:')\n",
    "len11=len(tyson)\n",
    "\n",
    "if 2>len11:\n",
    "    print('empty string')\n",
    "else:\n",
    "    print(tyson[:2]+tyson[-2:])"
   ]
  },
  {
   "cell_type": "code",
   "execution_count": 21,
   "id": "657cccdb",
   "metadata": {},
   "outputs": [
    {
     "name": "stdout",
     "output_type": "stream",
     "text": [
      "kya bolte public?\n"
     ]
    }
   ],
   "source": [
    "#Q.23 Write a Python function to insert a string in the middle of a string.\n",
    "loki='kya public?'\n",
    "left= loki[:3]\n",
    "right= loki[3:]\n",
    "addd= ' bolte'\n",
    "thor= left + addd + right\n",
    "print(thor)"
   ]
  }
 ],
 "metadata": {
  "kernelspec": {
   "display_name": "Python 3 (ipykernel)",
   "language": "python",
   "name": "python3"
  },
  "language_info": {
   "codemirror_mode": {
    "name": "ipython",
    "version": 3
   },
   "file_extension": ".py",
   "mimetype": "text/x-python",
   "name": "python",
   "nbconvert_exporter": "python",
   "pygments_lexer": "ipython3",
   "version": "3.9.13"
  }
 },
 "nbformat": 4,
 "nbformat_minor": 5
}
